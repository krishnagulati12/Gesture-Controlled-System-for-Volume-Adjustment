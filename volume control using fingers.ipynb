{
 "cells": [
  {
   "cell_type": "code",
   "execution_count": 1,
   "id": "f305bca3-f605-439a-9e07-d11c128c01a9",
   "metadata": {},
   "outputs": [],
   "source": [
    "import cv2\n",
    "import mediapipe as mp\n",
    "import numpy as np\n",
    "from ctypes import cast, POINTER\n",
    "from comtypes import CLSCTX_ALL\n",
    "from pycaw.pycaw import AudioUtilities, IAudioEndpointVolume\n",
    "import warnings"
   ]
  },
  {
   "cell_type": "code",
   "execution_count": 2,
   "id": "5b59aba3-b8b6-4cce-9670-84b815b0760c",
   "metadata": {},
   "outputs": [],
   "source": [
    "# Suppress the specific deprecation warning\n",
    "warnings.filterwarnings(\"ignore\", category=UserWarning, message='SymbolDatabase.GetPrototype() is deprecated')\n"
   ]
  },
  {
   "cell_type": "code",
   "execution_count": 3,
   "id": "1f1d7144-edb3-4146-b48e-94fd4dc784bf",
   "metadata": {},
   "outputs": [],
   "source": [
    "# Initialize MediaPipe Hand model\n",
    "mp_hands = mp.solutions.hands\n",
    "hands = mp_hands.Hands(static_image_mode=False,\n",
    "                       max_num_hands=1,\n",
    "                       min_detection_confidence=0.5,\n",
    "                       min_tracking_confidence=0.5)\n",
    "mp_drawing = mp.solutions.drawing_utils"
   ]
  },
  {
   "cell_type": "code",
   "execution_count": 4,
   "id": "1c6bed4f-cf55-4ab8-912d-379025c3f8f2",
   "metadata": {},
   "outputs": [],
   "source": [
    "# Get system volume interface\n",
    "devices = AudioUtilities.GetSpeakers()\n",
    "interface = devices.Activate(IAudioEndpointVolume._iid_, CLSCTX_ALL, None)\n",
    "volume = cast(interface, POINTER(IAudioEndpointVolume))"
   ]
  },
  {
   "cell_type": "code",
   "execution_count": 5,
   "id": "2f9dd246-3a18-4553-a50d-43f0010f1cec",
   "metadata": {},
   "outputs": [],
   "source": [
    "# Get volume range\n",
    "vol_range = volume.GetVolumeRange()\n",
    "min_vol = vol_range[0]\n",
    "max_vol = vol_range[1]\n"
   ]
  },
  {
   "cell_type": "code",
   "execution_count": 10,
   "id": "29f0de20-13b4-49d4-bd7e-6963459db996",
   "metadata": {},
   "outputs": [],
   "source": [
    "# OpenCV setup\n",
    "cap = cv2.VideoCapture(0)\n",
    "\n",
    "def calculate_distance(point1, point2):\n",
    "    return np.linalg.norm(np.array(point1) - np.array(point2))\n",
    "\n",
    "while True:\n",
    "    success, frame = cap.read()\n",
    "    if not success:\n",
    "        break\n",
    "\n",
    "    image_rgb = cv2.cvtColor(frame, cv2.COLOR_BGR2RGB)\n",
    "    results = hands.process(image_rgb)\n",
    "\n",
    "    if results.multi_hand_landmarks:\n",
    "        for hand_landmarks in results.multi_hand_landmarks:\n",
    "            mp_drawing.draw_landmarks(frame, hand_landmarks, mp_hands.HAND_CONNECTIONS)\n",
    "\n",
    "            # Get the coordinates of the index finger and thumb\n",
    "            thumb_tip = hand_landmarks.landmark[mp_hands.HandLandmark.THUMB_TIP]\n",
    "            index_tip = hand_landmarks.landmark[mp_hands.HandLandmark.INDEX_FINGER_TIP]\n",
    "\n",
    "            thumb_tip_coords = (int(thumb_tip.x * frame.shape[1]), int(thumb_tip.y * frame.shape[0]))\n",
    "            index_tip_coords = (int(index_tip.x * frame.shape[1]), int(index_tip.y * frame.shape[0]))\n",
    "\n",
    "            # Calculate distance between thumb and index finger\n",
    "            distance = calculate_distance(thumb_tip_coords, index_tip_coords)\n",
    "\n",
    "            # Map the distance to the volume range\n",
    "            vol = np.interp(distance, [30, 200], [min_vol, max_vol])\n",
    "            volume.SetMasterVolumeLevel(vol, None)\n",
    "\n",
    "            # Draw a circle at thumb and index finger tips\n",
    "            cv2.circle(frame, thumb_tip_coords, 10, (255, 0, 0), cv2.FILLED)\n",
    "            cv2.circle(frame, index_tip_coords, 10, (255, 0, 0), cv2.FILLED)\n",
    "\n",
    "    cv2.imshow('Video', frame)\n",
    "\n",
    "    if cv2.waitKey(1) & 0xFF == ord('q'):\n",
    "        break\n",
    "\n",
    "cap.release()\n",
    "cv2.destroyAllWindows()"
   ]
  },
  {
   "cell_type": "code",
   "execution_count": null,
   "id": "fe8418c2-5442-49c6-bf7b-4265ab067015",
   "metadata": {},
   "outputs": [],
   "source": []
  }
 ],
 "metadata": {
  "kernelspec": {
   "display_name": "Python 3 (ipykernel)",
   "language": "python",
   "name": "python3"
  },
  "language_info": {
   "codemirror_mode": {
    "name": "ipython",
    "version": 3
   },
   "file_extension": ".py",
   "mimetype": "text/x-python",
   "name": "python",
   "nbconvert_exporter": "python",
   "pygments_lexer": "ipython3",
   "version": "3.11.7"
  }
 },
 "nbformat": 4,
 "nbformat_minor": 5
}
